{
  "nbformat": 4,
  "nbformat_minor": 0,
  "metadata": {
    "accelerator": "GPU",
    "colab": {
      "name": "Copy of Lung_1.ipynb",
      "provenance": []
    },
    "kernelspec": {
      "display_name": "Python 3",
      "name": "python3"
    },
    "language_info": {
      "name": "python"
    }
  },
  "cells": [
    {
      "cell_type": "code",
      "metadata": {
        "colab": {
          "base_uri": "https://localhost:8080/"
        },
        "id": "7ykk-g5rECA_",
        "outputId": "4d26303a-cb75-4015-8773-da1202de2f31"
      },
      "source": [
        "from google.colab import drive\n",
        "drive.mount('/content/drive')"
      ],
      "execution_count": null,
      "outputs": [
        {
          "output_type": "stream",
          "text": [
            "Mounted at /content/drive\n"
          ],
          "name": "stdout"
        }
      ]
    },
    {
      "cell_type": "code",
      "metadata": {
        "colab": {
          "base_uri": "https://localhost:8080/"
        },
        "id": "K4cL7mKcEFju",
        "outputId": "c0159cc1-2c3b-4695-d1c1-c296dadb46c7"
      },
      "source": [
        "!pip install segmentation-models\n",
        "\n",
        "import tensorflow as tf\n",
        "from keras.models import *\n",
        "from keras.layers import *\n",
        "from keras.optimizers import *\n",
        "from keras.callbacks import *\n",
        "import segmentation_models as sm\n",
        "\n",
        "import cv2\n",
        "import os\n",
        "import numpy as np\n",
        "from matplotlib import pyplot as plt"
      ],
      "execution_count": null,
      "outputs": [
        {
          "output_type": "stream",
          "text": [
            "Collecting segmentation-models\n",
            "  Downloading segmentation_models-1.0.1-py3-none-any.whl (33 kB)\n",
            "Collecting image-classifiers==1.0.0\n",
            "  Downloading image_classifiers-1.0.0-py3-none-any.whl (19 kB)\n",
            "Collecting efficientnet==1.0.0\n",
            "  Downloading efficientnet-1.0.0-py3-none-any.whl (17 kB)\n",
            "Collecting keras-applications<=1.0.8,>=1.0.7\n",
            "  Downloading Keras_Applications-1.0.8-py3-none-any.whl (50 kB)\n",
            "\u001b[?25l\r\u001b[K     |██████▌                         | 10 kB 28.3 MB/s eta 0:00:01\r\u001b[K     |█████████████                   | 20 kB 31.6 MB/s eta 0:00:01\r\u001b[K     |███████████████████▍            | 30 kB 37.9 MB/s eta 0:00:01\r\u001b[K     |█████████████████████████▉      | 40 kB 40.8 MB/s eta 0:00:01\r\u001b[K     |████████████████████████████████| 50 kB 6.6 MB/s \n",
            "\u001b[?25hRequirement already satisfied: scikit-image in /usr/local/lib/python3.7/dist-packages (from efficientnet==1.0.0->segmentation-models) (0.16.2)\n",
            "Requirement already satisfied: numpy>=1.9.1 in /usr/local/lib/python3.7/dist-packages (from keras-applications<=1.0.8,>=1.0.7->segmentation-models) (1.19.5)\n",
            "Requirement already satisfied: h5py in /usr/local/lib/python3.7/dist-packages (from keras-applications<=1.0.8,>=1.0.7->segmentation-models) (3.1.0)\n",
            "Requirement already satisfied: cached-property in /usr/local/lib/python3.7/dist-packages (from h5py->keras-applications<=1.0.8,>=1.0.7->segmentation-models) (1.5.2)\n",
            "Requirement already satisfied: matplotlib!=3.0.0,>=2.0.0 in /usr/local/lib/python3.7/dist-packages (from scikit-image->efficientnet==1.0.0->segmentation-models) (3.2.2)\n",
            "Requirement already satisfied: PyWavelets>=0.4.0 in /usr/local/lib/python3.7/dist-packages (from scikit-image->efficientnet==1.0.0->segmentation-models) (1.1.1)\n",
            "Requirement already satisfied: networkx>=2.0 in /usr/local/lib/python3.7/dist-packages (from scikit-image->efficientnet==1.0.0->segmentation-models) (2.6.2)\n",
            "Requirement already satisfied: pillow>=4.3.0 in /usr/local/lib/python3.7/dist-packages (from scikit-image->efficientnet==1.0.0->segmentation-models) (7.1.2)\n",
            "Requirement already satisfied: imageio>=2.3.0 in /usr/local/lib/python3.7/dist-packages (from scikit-image->efficientnet==1.0.0->segmentation-models) (2.4.1)\n",
            "Requirement already satisfied: scipy>=0.19.0 in /usr/local/lib/python3.7/dist-packages (from scikit-image->efficientnet==1.0.0->segmentation-models) (1.4.1)\n",
            "Requirement already satisfied: cycler>=0.10 in /usr/local/lib/python3.7/dist-packages (from matplotlib!=3.0.0,>=2.0.0->scikit-image->efficientnet==1.0.0->segmentation-models) (0.10.0)\n",
            "Requirement already satisfied: python-dateutil>=2.1 in /usr/local/lib/python3.7/dist-packages (from matplotlib!=3.0.0,>=2.0.0->scikit-image->efficientnet==1.0.0->segmentation-models) (2.8.2)\n",
            "Requirement already satisfied: pyparsing!=2.0.4,!=2.1.2,!=2.1.6,>=2.0.1 in /usr/local/lib/python3.7/dist-packages (from matplotlib!=3.0.0,>=2.0.0->scikit-image->efficientnet==1.0.0->segmentation-models) (2.4.7)\n",
            "Requirement already satisfied: kiwisolver>=1.0.1 in /usr/local/lib/python3.7/dist-packages (from matplotlib!=3.0.0,>=2.0.0->scikit-image->efficientnet==1.0.0->segmentation-models) (1.3.1)\n",
            "Requirement already satisfied: six in /usr/local/lib/python3.7/dist-packages (from cycler>=0.10->matplotlib!=3.0.0,>=2.0.0->scikit-image->efficientnet==1.0.0->segmentation-models) (1.15.0)\n",
            "Installing collected packages: keras-applications, image-classifiers, efficientnet, segmentation-models\n",
            "Successfully installed efficientnet-1.0.0 image-classifiers-1.0.0 keras-applications-1.0.8 segmentation-models-1.0.1\n",
            "Segmentation Models: using `keras` framework.\n"
          ],
          "name": "stdout"
        }
      ]
    },
    {
      "cell_type": "code",
      "metadata": {
        "id": "hCpJ4Da_qd3Y"
      },
      "source": [
        "from keras.metrics import MeanIoU"
      ],
      "execution_count": null,
      "outputs": []
    },
    {
      "cell_type": "code",
      "metadata": {
        "colab": {
          "base_uri": "https://localhost:8080/",
          "height": 35
        },
        "id": "-T1ivLzSEWxV",
        "outputId": "51283d14-2c79-4535-a3a4-28a1f124f450"
      },
      "source": [
        "sm.set_framework('tf.keras')\n",
        "sm.framework()"
      ],
      "execution_count": null,
      "outputs": [
        {
          "output_type": "execute_result",
          "data": {
            "application/vnd.google.colaboratory.intrinsic+json": {
              "type": "string"
            },
            "text/plain": [
              "'tf.keras'"
            ]
          },
          "metadata": {
            "tags": []
          },
          "execution_count": 4
        }
      ]
    },
    {
      "cell_type": "code",
      "metadata": {
        "id": "ZqK66oypEXvl"
      },
      "source": [
        "train_x_path = \"/content/drive/MyDrive/Lung/Main dataset/train_original\"\n",
        "train_y_path =\"/content/drive/MyDrive/Lung/Main dataset/train_mask\"\n",
        "test_x_path = \"/content/drive/MyDrive/Lung/Main dataset/validation_original\"\n",
        "test_y_path = \"/content/drive/MyDrive/Lung/Main dataset/validation_mask\""
      ],
      "execution_count": null,
      "outputs": []
    },
    {
      "cell_type": "code",
      "metadata": {
        "id": "pLAEghxaPypl"
      },
      "source": [
        "def read_images(path, i=cv2.IMREAD_COLOR):\n",
        "    images_array=[]\n",
        "    for items in sorted(os.listdir(path)):\n",
        "        img =  cv2.imread(os.path.join(path, items), i) #you can pass multiple arguments in single line\n",
        "        img = cv2.resize(img,(256,256))\n",
        "        #img = cv2.cvtColor(img, cv2.COLOR_RGB2BGR)\n",
        "        images_array.append(img)\n",
        "    return np.array(images_array[:-1])"
      ],
      "execution_count": null,
      "outputs": []
    },
    {
      "cell_type": "code",
      "metadata": {
        "id": "2pCG3tIDGyyl",
        "colab": {
          "base_uri": "https://localhost:8080/"
        },
        "outputId": "a9d070d0-c6ea-46d6-90e8-1b6cdb115db4"
      },
      "source": [
        "train_x = read_images(train_x_path, i=cv2.IMREAD_COLOR)\n",
        "print('trainx')\n",
        "train_y = read_images(train_y_path,i=cv2.IMREAD_GRAYSCALE)\n",
        "print('trainy')\n",
        "test_x = read_images(test_x_path, i=cv2.IMREAD_COLOR)\n",
        "print(\"testx\")\n",
        "test_y = read_images(test_y_path, i=cv2.IMREAD_GRAYSCALE)\n",
        "print(\"testy\")"
      ],
      "execution_count": null,
      "outputs": [
        {
          "output_type": "stream",
          "text": [
            "trainx\n",
            "trainy\n",
            "testx\n",
            "testy\n"
          ],
          "name": "stdout"
        }
      ]
    },
    {
      "cell_type": "code",
      "metadata": {
        "id": "WNbnro6XT8JZ"
      },
      "source": [
        "train_y = np.expand_dims(train_y, axis=3)\n",
        "test_y = np.expand_dims(test_y, axis=3)"
      ],
      "execution_count": null,
      "outputs": []
    },
    {
      "cell_type": "code",
      "metadata": {
        "colab": {
          "base_uri": "https://localhost:8080/"
        },
        "id": "eS722LBLQhbs",
        "outputId": "2a220d70-5789-4748-e86d-c50ca35c7514"
      },
      "source": [
        "print(np.shape(train_x[0]))\n",
        "print(np.shape(train_y[0]))\n",
        "print(np.shape(test_x[0]))\n",
        "print(np.shape(test_y[0]))"
      ],
      "execution_count": null,
      "outputs": [
        {
          "output_type": "stream",
          "text": [
            "(256, 256, 3)\n",
            "(256, 256, 1)\n",
            "(256, 256, 3)\n",
            "(256, 256, 1)\n"
          ],
          "name": "stdout"
        }
      ]
    },
    {
      "cell_type": "code",
      "metadata": {
        "id": "T6QfGO3QROHR"
      },
      "source": [
        "BACKBONE = 'resnet34'\n",
        "preprocess_input = sm.get_preprocessing(BACKBONE)\n",
        "\n",
        "train_x = preprocess_input(train_x)\n",
        "test_x = preprocess_input(test_x)\n",
        "train_y = train_y.astype(np.float32)/255\n",
        "test_y = test_y.astype(np.float32)/255"
      ],
      "execution_count": null,
      "outputs": []
    },
    {
      "cell_type": "code",
      "metadata": {
        "colab": {
          "base_uri": "https://localhost:8080/"
        },
        "id": "KrK1oLdIW5Oi",
        "outputId": "4dc30d51-daa5-4fcf-f9b0-9a515a38e413"
      },
      "source": [
        "model = sm.Unet(BACKBONE, input_shape=(256,256,3), encoder_weights='imagenet')\n",
        "model.compile('Adam', loss='binary_crossentropy', metrics=['accuracy',MeanIoU(num_classes=2)])\n",
        "\n",
        "model.summary()"
      ],
      "execution_count": null,
      "outputs": [
        {
          "output_type": "stream",
          "text": [
            "Downloading data from https://github.com/qubvel/classification_models/releases/download/0.0.1/resnet34_imagenet_1000_no_top.h5\n",
            "85524480/85521592 [==============================] - 2s 0us/step\n",
            "85532672/85521592 [==============================] - 2s 0us/step\n",
            "Model: \"model_1\"\n",
            "__________________________________________________________________________________________________\n",
            "Layer (type)                    Output Shape         Param #     Connected to                     \n",
            "==================================================================================================\n",
            "data (InputLayer)               [(None, 256, 256, 3) 0                                            \n",
            "__________________________________________________________________________________________________\n",
            "bn_data (BatchNormalization)    (None, 256, 256, 3)  9           data[0][0]                       \n",
            "__________________________________________________________________________________________________\n",
            "zero_padding2d (ZeroPadding2D)  (None, 262, 262, 3)  0           bn_data[0][0]                    \n",
            "__________________________________________________________________________________________________\n",
            "conv0 (Conv2D)                  (None, 128, 128, 64) 9408        zero_padding2d[0][0]             \n",
            "__________________________________________________________________________________________________\n",
            "bn0 (BatchNormalization)        (None, 128, 128, 64) 256         conv0[0][0]                      \n",
            "__________________________________________________________________________________________________\n",
            "relu0 (Activation)              (None, 128, 128, 64) 0           bn0[0][0]                        \n",
            "__________________________________________________________________________________________________\n",
            "zero_padding2d_1 (ZeroPadding2D (None, 130, 130, 64) 0           relu0[0][0]                      \n",
            "__________________________________________________________________________________________________\n",
            "pooling0 (MaxPooling2D)         (None, 64, 64, 64)   0           zero_padding2d_1[0][0]           \n",
            "__________________________________________________________________________________________________\n",
            "stage1_unit1_bn1 (BatchNormaliz (None, 64, 64, 64)   256         pooling0[0][0]                   \n",
            "__________________________________________________________________________________________________\n",
            "stage1_unit1_relu1 (Activation) (None, 64, 64, 64)   0           stage1_unit1_bn1[0][0]           \n",
            "__________________________________________________________________________________________________\n",
            "zero_padding2d_2 (ZeroPadding2D (None, 66, 66, 64)   0           stage1_unit1_relu1[0][0]         \n",
            "__________________________________________________________________________________________________\n",
            "stage1_unit1_conv1 (Conv2D)     (None, 64, 64, 64)   36864       zero_padding2d_2[0][0]           \n",
            "__________________________________________________________________________________________________\n",
            "stage1_unit1_bn2 (BatchNormaliz (None, 64, 64, 64)   256         stage1_unit1_conv1[0][0]         \n",
            "__________________________________________________________________________________________________\n",
            "stage1_unit1_relu2 (Activation) (None, 64, 64, 64)   0           stage1_unit1_bn2[0][0]           \n",
            "__________________________________________________________________________________________________\n",
            "zero_padding2d_3 (ZeroPadding2D (None, 66, 66, 64)   0           stage1_unit1_relu2[0][0]         \n",
            "__________________________________________________________________________________________________\n",
            "stage1_unit1_conv2 (Conv2D)     (None, 64, 64, 64)   36864       zero_padding2d_3[0][0]           \n",
            "__________________________________________________________________________________________________\n",
            "stage1_unit1_sc (Conv2D)        (None, 64, 64, 64)   4096        stage1_unit1_relu1[0][0]         \n",
            "__________________________________________________________________________________________________\n",
            "add (Add)                       (None, 64, 64, 64)   0           stage1_unit1_conv2[0][0]         \n",
            "                                                                 stage1_unit1_sc[0][0]            \n",
            "__________________________________________________________________________________________________\n",
            "stage1_unit2_bn1 (BatchNormaliz (None, 64, 64, 64)   256         add[0][0]                        \n",
            "__________________________________________________________________________________________________\n",
            "stage1_unit2_relu1 (Activation) (None, 64, 64, 64)   0           stage1_unit2_bn1[0][0]           \n",
            "__________________________________________________________________________________________________\n",
            "zero_padding2d_4 (ZeroPadding2D (None, 66, 66, 64)   0           stage1_unit2_relu1[0][0]         \n",
            "__________________________________________________________________________________________________\n",
            "stage1_unit2_conv1 (Conv2D)     (None, 64, 64, 64)   36864       zero_padding2d_4[0][0]           \n",
            "__________________________________________________________________________________________________\n",
            "stage1_unit2_bn2 (BatchNormaliz (None, 64, 64, 64)   256         stage1_unit2_conv1[0][0]         \n",
            "__________________________________________________________________________________________________\n",
            "stage1_unit2_relu2 (Activation) (None, 64, 64, 64)   0           stage1_unit2_bn2[0][0]           \n",
            "__________________________________________________________________________________________________\n",
            "zero_padding2d_5 (ZeroPadding2D (None, 66, 66, 64)   0           stage1_unit2_relu2[0][0]         \n",
            "__________________________________________________________________________________________________\n",
            "stage1_unit2_conv2 (Conv2D)     (None, 64, 64, 64)   36864       zero_padding2d_5[0][0]           \n",
            "__________________________________________________________________________________________________\n",
            "add_1 (Add)                     (None, 64, 64, 64)   0           stage1_unit2_conv2[0][0]         \n",
            "                                                                 add[0][0]                        \n",
            "__________________________________________________________________________________________________\n",
            "stage1_unit3_bn1 (BatchNormaliz (None, 64, 64, 64)   256         add_1[0][0]                      \n",
            "__________________________________________________________________________________________________\n",
            "stage1_unit3_relu1 (Activation) (None, 64, 64, 64)   0           stage1_unit3_bn1[0][0]           \n",
            "__________________________________________________________________________________________________\n",
            "zero_padding2d_6 (ZeroPadding2D (None, 66, 66, 64)   0           stage1_unit3_relu1[0][0]         \n",
            "__________________________________________________________________________________________________\n",
            "stage1_unit3_conv1 (Conv2D)     (None, 64, 64, 64)   36864       zero_padding2d_6[0][0]           \n",
            "__________________________________________________________________________________________________\n",
            "stage1_unit3_bn2 (BatchNormaliz (None, 64, 64, 64)   256         stage1_unit3_conv1[0][0]         \n",
            "__________________________________________________________________________________________________\n",
            "stage1_unit3_relu2 (Activation) (None, 64, 64, 64)   0           stage1_unit3_bn2[0][0]           \n",
            "__________________________________________________________________________________________________\n",
            "zero_padding2d_7 (ZeroPadding2D (None, 66, 66, 64)   0           stage1_unit3_relu2[0][0]         \n",
            "__________________________________________________________________________________________________\n",
            "stage1_unit3_conv2 (Conv2D)     (None, 64, 64, 64)   36864       zero_padding2d_7[0][0]           \n",
            "__________________________________________________________________________________________________\n",
            "add_2 (Add)                     (None, 64, 64, 64)   0           stage1_unit3_conv2[0][0]         \n",
            "                                                                 add_1[0][0]                      \n",
            "__________________________________________________________________________________________________\n",
            "stage2_unit1_bn1 (BatchNormaliz (None, 64, 64, 64)   256         add_2[0][0]                      \n",
            "__________________________________________________________________________________________________\n",
            "stage2_unit1_relu1 (Activation) (None, 64, 64, 64)   0           stage2_unit1_bn1[0][0]           \n",
            "__________________________________________________________________________________________________\n",
            "zero_padding2d_8 (ZeroPadding2D (None, 66, 66, 64)   0           stage2_unit1_relu1[0][0]         \n",
            "__________________________________________________________________________________________________\n",
            "stage2_unit1_conv1 (Conv2D)     (None, 32, 32, 128)  73728       zero_padding2d_8[0][0]           \n",
            "__________________________________________________________________________________________________\n",
            "stage2_unit1_bn2 (BatchNormaliz (None, 32, 32, 128)  512         stage2_unit1_conv1[0][0]         \n",
            "__________________________________________________________________________________________________\n",
            "stage2_unit1_relu2 (Activation) (None, 32, 32, 128)  0           stage2_unit1_bn2[0][0]           \n",
            "__________________________________________________________________________________________________\n",
            "zero_padding2d_9 (ZeroPadding2D (None, 34, 34, 128)  0           stage2_unit1_relu2[0][0]         \n",
            "__________________________________________________________________________________________________\n",
            "stage2_unit1_conv2 (Conv2D)     (None, 32, 32, 128)  147456      zero_padding2d_9[0][0]           \n",
            "__________________________________________________________________________________________________\n",
            "stage2_unit1_sc (Conv2D)        (None, 32, 32, 128)  8192        stage2_unit1_relu1[0][0]         \n",
            "__________________________________________________________________________________________________\n",
            "add_3 (Add)                     (None, 32, 32, 128)  0           stage2_unit1_conv2[0][0]         \n",
            "                                                                 stage2_unit1_sc[0][0]            \n",
            "__________________________________________________________________________________________________\n",
            "stage2_unit2_bn1 (BatchNormaliz (None, 32, 32, 128)  512         add_3[0][0]                      \n",
            "__________________________________________________________________________________________________\n",
            "stage2_unit2_relu1 (Activation) (None, 32, 32, 128)  0           stage2_unit2_bn1[0][0]           \n",
            "__________________________________________________________________________________________________\n",
            "zero_padding2d_10 (ZeroPadding2 (None, 34, 34, 128)  0           stage2_unit2_relu1[0][0]         \n",
            "__________________________________________________________________________________________________\n",
            "stage2_unit2_conv1 (Conv2D)     (None, 32, 32, 128)  147456      zero_padding2d_10[0][0]          \n",
            "__________________________________________________________________________________________________\n",
            "stage2_unit2_bn2 (BatchNormaliz (None, 32, 32, 128)  512         stage2_unit2_conv1[0][0]         \n",
            "__________________________________________________________________________________________________\n",
            "stage2_unit2_relu2 (Activation) (None, 32, 32, 128)  0           stage2_unit2_bn2[0][0]           \n",
            "__________________________________________________________________________________________________\n",
            "zero_padding2d_11 (ZeroPadding2 (None, 34, 34, 128)  0           stage2_unit2_relu2[0][0]         \n",
            "__________________________________________________________________________________________________\n",
            "stage2_unit2_conv2 (Conv2D)     (None, 32, 32, 128)  147456      zero_padding2d_11[0][0]          \n",
            "__________________________________________________________________________________________________\n",
            "add_4 (Add)                     (None, 32, 32, 128)  0           stage2_unit2_conv2[0][0]         \n",
            "                                                                 add_3[0][0]                      \n",
            "__________________________________________________________________________________________________\n",
            "stage2_unit3_bn1 (BatchNormaliz (None, 32, 32, 128)  512         add_4[0][0]                      \n",
            "__________________________________________________________________________________________________\n",
            "stage2_unit3_relu1 (Activation) (None, 32, 32, 128)  0           stage2_unit3_bn1[0][0]           \n",
            "__________________________________________________________________________________________________\n",
            "zero_padding2d_12 (ZeroPadding2 (None, 34, 34, 128)  0           stage2_unit3_relu1[0][0]         \n",
            "__________________________________________________________________________________________________\n",
            "stage2_unit3_conv1 (Conv2D)     (None, 32, 32, 128)  147456      zero_padding2d_12[0][0]          \n",
            "__________________________________________________________________________________________________\n",
            "stage2_unit3_bn2 (BatchNormaliz (None, 32, 32, 128)  512         stage2_unit3_conv1[0][0]         \n",
            "__________________________________________________________________________________________________\n",
            "stage2_unit3_relu2 (Activation) (None, 32, 32, 128)  0           stage2_unit3_bn2[0][0]           \n",
            "__________________________________________________________________________________________________\n",
            "zero_padding2d_13 (ZeroPadding2 (None, 34, 34, 128)  0           stage2_unit3_relu2[0][0]         \n",
            "__________________________________________________________________________________________________\n",
            "stage2_unit3_conv2 (Conv2D)     (None, 32, 32, 128)  147456      zero_padding2d_13[0][0]          \n",
            "__________________________________________________________________________________________________\n",
            "add_5 (Add)                     (None, 32, 32, 128)  0           stage2_unit3_conv2[0][0]         \n",
            "                                                                 add_4[0][0]                      \n",
            "__________________________________________________________________________________________________\n",
            "stage2_unit4_bn1 (BatchNormaliz (None, 32, 32, 128)  512         add_5[0][0]                      \n",
            "__________________________________________________________________________________________________\n",
            "stage2_unit4_relu1 (Activation) (None, 32, 32, 128)  0           stage2_unit4_bn1[0][0]           \n",
            "__________________________________________________________________________________________________\n",
            "zero_padding2d_14 (ZeroPadding2 (None, 34, 34, 128)  0           stage2_unit4_relu1[0][0]         \n",
            "__________________________________________________________________________________________________\n",
            "stage2_unit4_conv1 (Conv2D)     (None, 32, 32, 128)  147456      zero_padding2d_14[0][0]          \n",
            "__________________________________________________________________________________________________\n",
            "stage2_unit4_bn2 (BatchNormaliz (None, 32, 32, 128)  512         stage2_unit4_conv1[0][0]         \n",
            "__________________________________________________________________________________________________\n",
            "stage2_unit4_relu2 (Activation) (None, 32, 32, 128)  0           stage2_unit4_bn2[0][0]           \n",
            "__________________________________________________________________________________________________\n",
            "zero_padding2d_15 (ZeroPadding2 (None, 34, 34, 128)  0           stage2_unit4_relu2[0][0]         \n",
            "__________________________________________________________________________________________________\n",
            "stage2_unit4_conv2 (Conv2D)     (None, 32, 32, 128)  147456      zero_padding2d_15[0][0]          \n",
            "__________________________________________________________________________________________________\n",
            "add_6 (Add)                     (None, 32, 32, 128)  0           stage2_unit4_conv2[0][0]         \n",
            "                                                                 add_5[0][0]                      \n",
            "__________________________________________________________________________________________________\n",
            "stage3_unit1_bn1 (BatchNormaliz (None, 32, 32, 128)  512         add_6[0][0]                      \n",
            "__________________________________________________________________________________________________\n",
            "stage3_unit1_relu1 (Activation) (None, 32, 32, 128)  0           stage3_unit1_bn1[0][0]           \n",
            "__________________________________________________________________________________________________\n",
            "zero_padding2d_16 (ZeroPadding2 (None, 34, 34, 128)  0           stage3_unit1_relu1[0][0]         \n",
            "__________________________________________________________________________________________________\n",
            "stage3_unit1_conv1 (Conv2D)     (None, 16, 16, 256)  294912      zero_padding2d_16[0][0]          \n",
            "__________________________________________________________________________________________________\n",
            "stage3_unit1_bn2 (BatchNormaliz (None, 16, 16, 256)  1024        stage3_unit1_conv1[0][0]         \n",
            "__________________________________________________________________________________________________\n",
            "stage3_unit1_relu2 (Activation) (None, 16, 16, 256)  0           stage3_unit1_bn2[0][0]           \n",
            "__________________________________________________________________________________________________\n",
            "zero_padding2d_17 (ZeroPadding2 (None, 18, 18, 256)  0           stage3_unit1_relu2[0][0]         \n",
            "__________________________________________________________________________________________________\n",
            "stage3_unit1_conv2 (Conv2D)     (None, 16, 16, 256)  589824      zero_padding2d_17[0][0]          \n",
            "__________________________________________________________________________________________________\n",
            "stage3_unit1_sc (Conv2D)        (None, 16, 16, 256)  32768       stage3_unit1_relu1[0][0]         \n",
            "__________________________________________________________________________________________________\n",
            "add_7 (Add)                     (None, 16, 16, 256)  0           stage3_unit1_conv2[0][0]         \n",
            "                                                                 stage3_unit1_sc[0][0]            \n",
            "__________________________________________________________________________________________________\n",
            "stage3_unit2_bn1 (BatchNormaliz (None, 16, 16, 256)  1024        add_7[0][0]                      \n",
            "__________________________________________________________________________________________________\n",
            "stage3_unit2_relu1 (Activation) (None, 16, 16, 256)  0           stage3_unit2_bn1[0][0]           \n",
            "__________________________________________________________________________________________________\n",
            "zero_padding2d_18 (ZeroPadding2 (None, 18, 18, 256)  0           stage3_unit2_relu1[0][0]         \n",
            "__________________________________________________________________________________________________\n",
            "stage3_unit2_conv1 (Conv2D)     (None, 16, 16, 256)  589824      zero_padding2d_18[0][0]          \n",
            "__________________________________________________________________________________________________\n",
            "stage3_unit2_bn2 (BatchNormaliz (None, 16, 16, 256)  1024        stage3_unit2_conv1[0][0]         \n",
            "__________________________________________________________________________________________________\n",
            "stage3_unit2_relu2 (Activation) (None, 16, 16, 256)  0           stage3_unit2_bn2[0][0]           \n",
            "__________________________________________________________________________________________________\n",
            "zero_padding2d_19 (ZeroPadding2 (None, 18, 18, 256)  0           stage3_unit2_relu2[0][0]         \n",
            "__________________________________________________________________________________________________\n",
            "stage3_unit2_conv2 (Conv2D)     (None, 16, 16, 256)  589824      zero_padding2d_19[0][0]          \n",
            "__________________________________________________________________________________________________\n",
            "add_8 (Add)                     (None, 16, 16, 256)  0           stage3_unit2_conv2[0][0]         \n",
            "                                                                 add_7[0][0]                      \n",
            "__________________________________________________________________________________________________\n",
            "stage3_unit3_bn1 (BatchNormaliz (None, 16, 16, 256)  1024        add_8[0][0]                      \n",
            "__________________________________________________________________________________________________\n",
            "stage3_unit3_relu1 (Activation) (None, 16, 16, 256)  0           stage3_unit3_bn1[0][0]           \n",
            "__________________________________________________________________________________________________\n",
            "zero_padding2d_20 (ZeroPadding2 (None, 18, 18, 256)  0           stage3_unit3_relu1[0][0]         \n",
            "__________________________________________________________________________________________________\n",
            "stage3_unit3_conv1 (Conv2D)     (None, 16, 16, 256)  589824      zero_padding2d_20[0][0]          \n",
            "__________________________________________________________________________________________________\n",
            "stage3_unit3_bn2 (BatchNormaliz (None, 16, 16, 256)  1024        stage3_unit3_conv1[0][0]         \n",
            "__________________________________________________________________________________________________\n",
            "stage3_unit3_relu2 (Activation) (None, 16, 16, 256)  0           stage3_unit3_bn2[0][0]           \n",
            "__________________________________________________________________________________________________\n",
            "zero_padding2d_21 (ZeroPadding2 (None, 18, 18, 256)  0           stage3_unit3_relu2[0][0]         \n",
            "__________________________________________________________________________________________________\n",
            "stage3_unit3_conv2 (Conv2D)     (None, 16, 16, 256)  589824      zero_padding2d_21[0][0]          \n",
            "__________________________________________________________________________________________________\n",
            "add_9 (Add)                     (None, 16, 16, 256)  0           stage3_unit3_conv2[0][0]         \n",
            "                                                                 add_8[0][0]                      \n",
            "__________________________________________________________________________________________________\n",
            "stage3_unit4_bn1 (BatchNormaliz (None, 16, 16, 256)  1024        add_9[0][0]                      \n",
            "__________________________________________________________________________________________________\n",
            "stage3_unit4_relu1 (Activation) (None, 16, 16, 256)  0           stage3_unit4_bn1[0][0]           \n",
            "__________________________________________________________________________________________________\n",
            "zero_padding2d_22 (ZeroPadding2 (None, 18, 18, 256)  0           stage3_unit4_relu1[0][0]         \n",
            "__________________________________________________________________________________________________\n",
            "stage3_unit4_conv1 (Conv2D)     (None, 16, 16, 256)  589824      zero_padding2d_22[0][0]          \n",
            "__________________________________________________________________________________________________\n",
            "stage3_unit4_bn2 (BatchNormaliz (None, 16, 16, 256)  1024        stage3_unit4_conv1[0][0]         \n",
            "__________________________________________________________________________________________________\n",
            "stage3_unit4_relu2 (Activation) (None, 16, 16, 256)  0           stage3_unit4_bn2[0][0]           \n",
            "__________________________________________________________________________________________________\n",
            "zero_padding2d_23 (ZeroPadding2 (None, 18, 18, 256)  0           stage3_unit4_relu2[0][0]         \n",
            "__________________________________________________________________________________________________\n",
            "stage3_unit4_conv2 (Conv2D)     (None, 16, 16, 256)  589824      zero_padding2d_23[0][0]          \n",
            "__________________________________________________________________________________________________\n",
            "add_10 (Add)                    (None, 16, 16, 256)  0           stage3_unit4_conv2[0][0]         \n",
            "                                                                 add_9[0][0]                      \n",
            "__________________________________________________________________________________________________\n",
            "stage3_unit5_bn1 (BatchNormaliz (None, 16, 16, 256)  1024        add_10[0][0]                     \n",
            "__________________________________________________________________________________________________\n",
            "stage3_unit5_relu1 (Activation) (None, 16, 16, 256)  0           stage3_unit5_bn1[0][0]           \n",
            "__________________________________________________________________________________________________\n",
            "zero_padding2d_24 (ZeroPadding2 (None, 18, 18, 256)  0           stage3_unit5_relu1[0][0]         \n",
            "__________________________________________________________________________________________________\n",
            "stage3_unit5_conv1 (Conv2D)     (None, 16, 16, 256)  589824      zero_padding2d_24[0][0]          \n",
            "__________________________________________________________________________________________________\n",
            "stage3_unit5_bn2 (BatchNormaliz (None, 16, 16, 256)  1024        stage3_unit5_conv1[0][0]         \n",
            "__________________________________________________________________________________________________\n",
            "stage3_unit5_relu2 (Activation) (None, 16, 16, 256)  0           stage3_unit5_bn2[0][0]           \n",
            "__________________________________________________________________________________________________\n",
            "zero_padding2d_25 (ZeroPadding2 (None, 18, 18, 256)  0           stage3_unit5_relu2[0][0]         \n",
            "__________________________________________________________________________________________________\n",
            "stage3_unit5_conv2 (Conv2D)     (None, 16, 16, 256)  589824      zero_padding2d_25[0][0]          \n",
            "__________________________________________________________________________________________________\n",
            "add_11 (Add)                    (None, 16, 16, 256)  0           stage3_unit5_conv2[0][0]         \n",
            "                                                                 add_10[0][0]                     \n",
            "__________________________________________________________________________________________________\n",
            "stage3_unit6_bn1 (BatchNormaliz (None, 16, 16, 256)  1024        add_11[0][0]                     \n",
            "__________________________________________________________________________________________________\n",
            "stage3_unit6_relu1 (Activation) (None, 16, 16, 256)  0           stage3_unit6_bn1[0][0]           \n",
            "__________________________________________________________________________________________________\n",
            "zero_padding2d_26 (ZeroPadding2 (None, 18, 18, 256)  0           stage3_unit6_relu1[0][0]         \n",
            "__________________________________________________________________________________________________\n",
            "stage3_unit6_conv1 (Conv2D)     (None, 16, 16, 256)  589824      zero_padding2d_26[0][0]          \n",
            "__________________________________________________________________________________________________\n",
            "stage3_unit6_bn2 (BatchNormaliz (None, 16, 16, 256)  1024        stage3_unit6_conv1[0][0]         \n",
            "__________________________________________________________________________________________________\n",
            "stage3_unit6_relu2 (Activation) (None, 16, 16, 256)  0           stage3_unit6_bn2[0][0]           \n",
            "__________________________________________________________________________________________________\n",
            "zero_padding2d_27 (ZeroPadding2 (None, 18, 18, 256)  0           stage3_unit6_relu2[0][0]         \n",
            "__________________________________________________________________________________________________\n",
            "stage3_unit6_conv2 (Conv2D)     (None, 16, 16, 256)  589824      zero_padding2d_27[0][0]          \n",
            "__________________________________________________________________________________________________\n",
            "add_12 (Add)                    (None, 16, 16, 256)  0           stage3_unit6_conv2[0][0]         \n",
            "                                                                 add_11[0][0]                     \n",
            "__________________________________________________________________________________________________\n",
            "stage4_unit1_bn1 (BatchNormaliz (None, 16, 16, 256)  1024        add_12[0][0]                     \n",
            "__________________________________________________________________________________________________\n",
            "stage4_unit1_relu1 (Activation) (None, 16, 16, 256)  0           stage4_unit1_bn1[0][0]           \n",
            "__________________________________________________________________________________________________\n",
            "zero_padding2d_28 (ZeroPadding2 (None, 18, 18, 256)  0           stage4_unit1_relu1[0][0]         \n",
            "__________________________________________________________________________________________________\n",
            "stage4_unit1_conv1 (Conv2D)     (None, 8, 8, 512)    1179648     zero_padding2d_28[0][0]          \n",
            "__________________________________________________________________________________________________\n",
            "stage4_unit1_bn2 (BatchNormaliz (None, 8, 8, 512)    2048        stage4_unit1_conv1[0][0]         \n",
            "__________________________________________________________________________________________________\n",
            "stage4_unit1_relu2 (Activation) (None, 8, 8, 512)    0           stage4_unit1_bn2[0][0]           \n",
            "__________________________________________________________________________________________________\n",
            "zero_padding2d_29 (ZeroPadding2 (None, 10, 10, 512)  0           stage4_unit1_relu2[0][0]         \n",
            "__________________________________________________________________________________________________\n",
            "stage4_unit1_conv2 (Conv2D)     (None, 8, 8, 512)    2359296     zero_padding2d_29[0][0]          \n",
            "__________________________________________________________________________________________________\n",
            "stage4_unit1_sc (Conv2D)        (None, 8, 8, 512)    131072      stage4_unit1_relu1[0][0]         \n",
            "__________________________________________________________________________________________________\n",
            "add_13 (Add)                    (None, 8, 8, 512)    0           stage4_unit1_conv2[0][0]         \n",
            "                                                                 stage4_unit1_sc[0][0]            \n",
            "__________________________________________________________________________________________________\n",
            "stage4_unit2_bn1 (BatchNormaliz (None, 8, 8, 512)    2048        add_13[0][0]                     \n",
            "__________________________________________________________________________________________________\n",
            "stage4_unit2_relu1 (Activation) (None, 8, 8, 512)    0           stage4_unit2_bn1[0][0]           \n",
            "__________________________________________________________________________________________________\n",
            "zero_padding2d_30 (ZeroPadding2 (None, 10, 10, 512)  0           stage4_unit2_relu1[0][0]         \n",
            "__________________________________________________________________________________________________\n",
            "stage4_unit2_conv1 (Conv2D)     (None, 8, 8, 512)    2359296     zero_padding2d_30[0][0]          \n",
            "__________________________________________________________________________________________________\n",
            "stage4_unit2_bn2 (BatchNormaliz (None, 8, 8, 512)    2048        stage4_unit2_conv1[0][0]         \n",
            "__________________________________________________________________________________________________\n",
            "stage4_unit2_relu2 (Activation) (None, 8, 8, 512)    0           stage4_unit2_bn2[0][0]           \n",
            "__________________________________________________________________________________________________\n",
            "zero_padding2d_31 (ZeroPadding2 (None, 10, 10, 512)  0           stage4_unit2_relu2[0][0]         \n",
            "__________________________________________________________________________________________________\n",
            "stage4_unit2_conv2 (Conv2D)     (None, 8, 8, 512)    2359296     zero_padding2d_31[0][0]          \n",
            "__________________________________________________________________________________________________\n",
            "add_14 (Add)                    (None, 8, 8, 512)    0           stage4_unit2_conv2[0][0]         \n",
            "                                                                 add_13[0][0]                     \n",
            "__________________________________________________________________________________________________\n",
            "stage4_unit3_bn1 (BatchNormaliz (None, 8, 8, 512)    2048        add_14[0][0]                     \n",
            "__________________________________________________________________________________________________\n",
            "stage4_unit3_relu1 (Activation) (None, 8, 8, 512)    0           stage4_unit3_bn1[0][0]           \n",
            "__________________________________________________________________________________________________\n",
            "zero_padding2d_32 (ZeroPadding2 (None, 10, 10, 512)  0           stage4_unit3_relu1[0][0]         \n",
            "__________________________________________________________________________________________________\n",
            "stage4_unit3_conv1 (Conv2D)     (None, 8, 8, 512)    2359296     zero_padding2d_32[0][0]          \n",
            "__________________________________________________________________________________________________\n",
            "stage4_unit3_bn2 (BatchNormaliz (None, 8, 8, 512)    2048        stage4_unit3_conv1[0][0]         \n",
            "__________________________________________________________________________________________________\n",
            "stage4_unit3_relu2 (Activation) (None, 8, 8, 512)    0           stage4_unit3_bn2[0][0]           \n",
            "__________________________________________________________________________________________________\n",
            "zero_padding2d_33 (ZeroPadding2 (None, 10, 10, 512)  0           stage4_unit3_relu2[0][0]         \n",
            "__________________________________________________________________________________________________\n",
            "stage4_unit3_conv2 (Conv2D)     (None, 8, 8, 512)    2359296     zero_padding2d_33[0][0]          \n",
            "__________________________________________________________________________________________________\n",
            "add_15 (Add)                    (None, 8, 8, 512)    0           stage4_unit3_conv2[0][0]         \n",
            "                                                                 add_14[0][0]                     \n",
            "__________________________________________________________________________________________________\n",
            "bn1 (BatchNormalization)        (None, 8, 8, 512)    2048        add_15[0][0]                     \n",
            "__________________________________________________________________________________________________\n",
            "relu1 (Activation)              (None, 8, 8, 512)    0           bn1[0][0]                        \n",
            "__________________________________________________________________________________________________\n",
            "decoder_stage0_upsampling (UpSa (None, 16, 16, 512)  0           relu1[0][0]                      \n",
            "__________________________________________________________________________________________________\n",
            "decoder_stage0_concat (Concaten (None, 16, 16, 768)  0           decoder_stage0_upsampling[0][0]  \n",
            "                                                                 stage4_unit1_relu1[0][0]         \n",
            "__________________________________________________________________________________________________\n",
            "decoder_stage0a_conv (Conv2D)   (None, 16, 16, 256)  1769472     decoder_stage0_concat[0][0]      \n",
            "__________________________________________________________________________________________________\n",
            "decoder_stage0a_bn (BatchNormal (None, 16, 16, 256)  1024        decoder_stage0a_conv[0][0]       \n",
            "__________________________________________________________________________________________________\n",
            "decoder_stage0a_relu (Activatio (None, 16, 16, 256)  0           decoder_stage0a_bn[0][0]         \n",
            "__________________________________________________________________________________________________\n",
            "decoder_stage0b_conv (Conv2D)   (None, 16, 16, 256)  589824      decoder_stage0a_relu[0][0]       \n",
            "__________________________________________________________________________________________________\n",
            "decoder_stage0b_bn (BatchNormal (None, 16, 16, 256)  1024        decoder_stage0b_conv[0][0]       \n",
            "__________________________________________________________________________________________________\n",
            "decoder_stage0b_relu (Activatio (None, 16, 16, 256)  0           decoder_stage0b_bn[0][0]         \n",
            "__________________________________________________________________________________________________\n",
            "decoder_stage1_upsampling (UpSa (None, 32, 32, 256)  0           decoder_stage0b_relu[0][0]       \n",
            "__________________________________________________________________________________________________\n",
            "decoder_stage1_concat (Concaten (None, 32, 32, 384)  0           decoder_stage1_upsampling[0][0]  \n",
            "                                                                 stage3_unit1_relu1[0][0]         \n",
            "__________________________________________________________________________________________________\n",
            "decoder_stage1a_conv (Conv2D)   (None, 32, 32, 128)  442368      decoder_stage1_concat[0][0]      \n",
            "__________________________________________________________________________________________________\n",
            "decoder_stage1a_bn (BatchNormal (None, 32, 32, 128)  512         decoder_stage1a_conv[0][0]       \n",
            "__________________________________________________________________________________________________\n",
            "decoder_stage1a_relu (Activatio (None, 32, 32, 128)  0           decoder_stage1a_bn[0][0]         \n",
            "__________________________________________________________________________________________________\n",
            "decoder_stage1b_conv (Conv2D)   (None, 32, 32, 128)  147456      decoder_stage1a_relu[0][0]       \n",
            "__________________________________________________________________________________________________\n",
            "decoder_stage1b_bn (BatchNormal (None, 32, 32, 128)  512         decoder_stage1b_conv[0][0]       \n",
            "__________________________________________________________________________________________________\n",
            "decoder_stage1b_relu (Activatio (None, 32, 32, 128)  0           decoder_stage1b_bn[0][0]         \n",
            "__________________________________________________________________________________________________\n",
            "decoder_stage2_upsampling (UpSa (None, 64, 64, 128)  0           decoder_stage1b_relu[0][0]       \n",
            "__________________________________________________________________________________________________\n",
            "decoder_stage2_concat (Concaten (None, 64, 64, 192)  0           decoder_stage2_upsampling[0][0]  \n",
            "                                                                 stage2_unit1_relu1[0][0]         \n",
            "__________________________________________________________________________________________________\n",
            "decoder_stage2a_conv (Conv2D)   (None, 64, 64, 64)   110592      decoder_stage2_concat[0][0]      \n",
            "__________________________________________________________________________________________________\n",
            "decoder_stage2a_bn (BatchNormal (None, 64, 64, 64)   256         decoder_stage2a_conv[0][0]       \n",
            "__________________________________________________________________________________________________\n",
            "decoder_stage2a_relu (Activatio (None, 64, 64, 64)   0           decoder_stage2a_bn[0][0]         \n",
            "__________________________________________________________________________________________________\n",
            "decoder_stage2b_conv (Conv2D)   (None, 64, 64, 64)   36864       decoder_stage2a_relu[0][0]       \n",
            "__________________________________________________________________________________________________\n",
            "decoder_stage2b_bn (BatchNormal (None, 64, 64, 64)   256         decoder_stage2b_conv[0][0]       \n",
            "__________________________________________________________________________________________________\n",
            "decoder_stage2b_relu (Activatio (None, 64, 64, 64)   0           decoder_stage2b_bn[0][0]         \n",
            "__________________________________________________________________________________________________\n",
            "decoder_stage3_upsampling (UpSa (None, 128, 128, 64) 0           decoder_stage2b_relu[0][0]       \n",
            "__________________________________________________________________________________________________\n",
            "decoder_stage3_concat (Concaten (None, 128, 128, 128 0           decoder_stage3_upsampling[0][0]  \n",
            "                                                                 relu0[0][0]                      \n",
            "__________________________________________________________________________________________________\n",
            "decoder_stage3a_conv (Conv2D)   (None, 128, 128, 32) 36864       decoder_stage3_concat[0][0]      \n",
            "__________________________________________________________________________________________________\n",
            "decoder_stage3a_bn (BatchNormal (None, 128, 128, 32) 128         decoder_stage3a_conv[0][0]       \n",
            "__________________________________________________________________________________________________\n",
            "decoder_stage3a_relu (Activatio (None, 128, 128, 32) 0           decoder_stage3a_bn[0][0]         \n",
            "__________________________________________________________________________________________________\n",
            "decoder_stage3b_conv (Conv2D)   (None, 128, 128, 32) 9216        decoder_stage3a_relu[0][0]       \n",
            "__________________________________________________________________________________________________\n",
            "decoder_stage3b_bn (BatchNormal (None, 128, 128, 32) 128         decoder_stage3b_conv[0][0]       \n",
            "__________________________________________________________________________________________________\n",
            "decoder_stage3b_relu (Activatio (None, 128, 128, 32) 0           decoder_stage3b_bn[0][0]         \n",
            "__________________________________________________________________________________________________\n",
            "decoder_stage4_upsampling (UpSa (None, 256, 256, 32) 0           decoder_stage3b_relu[0][0]       \n",
            "__________________________________________________________________________________________________\n",
            "decoder_stage4a_conv (Conv2D)   (None, 256, 256, 16) 4608        decoder_stage4_upsampling[0][0]  \n",
            "__________________________________________________________________________________________________\n",
            "decoder_stage4a_bn (BatchNormal (None, 256, 256, 16) 64          decoder_stage4a_conv[0][0]       \n",
            "__________________________________________________________________________________________________\n",
            "decoder_stage4a_relu (Activatio (None, 256, 256, 16) 0           decoder_stage4a_bn[0][0]         \n",
            "__________________________________________________________________________________________________\n",
            "decoder_stage4b_conv (Conv2D)   (None, 256, 256, 16) 2304        decoder_stage4a_relu[0][0]       \n",
            "__________________________________________________________________________________________________\n",
            "decoder_stage4b_bn (BatchNormal (None, 256, 256, 16) 64          decoder_stage4b_conv[0][0]       \n",
            "__________________________________________________________________________________________________\n",
            "decoder_stage4b_relu (Activatio (None, 256, 256, 16) 0           decoder_stage4b_bn[0][0]         \n",
            "__________________________________________________________________________________________________\n",
            "final_conv (Conv2D)             (None, 256, 256, 1)  145         decoder_stage4b_relu[0][0]       \n",
            "__________________________________________________________________________________________________\n",
            "sigmoid (Activation)            (None, 256, 256, 1)  0           final_conv[0][0]                 \n",
            "==================================================================================================\n",
            "Total params: 24,456,154\n",
            "Trainable params: 24,438,804\n",
            "Non-trainable params: 17,350\n",
            "__________________________________________________________________________________________________\n"
          ],
          "name": "stdout"
        }
      ]
    },
    {
      "cell_type": "code",
      "metadata": {
        "colab": {
          "base_uri": "https://localhost:8080/"
        },
        "id": "ivq54g4a9MoZ",
        "outputId": "bd16c0e3-0fac-4bc9-beae-9ec079206b1d"
      },
      "source": [
        "#Dataset - 1 model training\n",
        "history = model.fit(\n",
        "    x=train_x,\n",
        "    y=train_y,\n",
        "    batch_size=20,\n",
        "    verbose = 1,\n",
        "    epochs=100,\n",
        "    validation_data=(test_x, test_y),\n",
        "    #callbacks=callbacks_list\n",
        ")"
      ],
      "execution_count": null,
      "outputs": [
        {
          "output_type": "stream",
          "text": [
            "Epoch 1/100\n",
            "31/31 [==============================] - 67s 919ms/step - loss: 0.1946 - accuracy: 0.9343 - mean_io_u: 0.3733 - val_loss: 2.7204 - val_accuracy: 0.4281 - val_mean_io_u: 0.6604\n",
            "Epoch 2/100\n",
            "31/31 [==============================] - 23s 741ms/step - loss: 0.0681 - accuracy: 0.9775 - mean_io_u: 0.3733 - val_loss: 1.2856 - val_accuracy: 0.6292 - val_mean_io_u: 0.5538\n",
            "Epoch 3/100\n",
            "31/31 [==============================] - 23s 745ms/step - loss: 0.0571 - accuracy: 0.9789 - mean_io_u: 0.3733 - val_loss: 1.3350 - val_accuracy: 0.6825 - val_mean_io_u: 0.4646\n",
            "Epoch 4/100\n",
            "31/31 [==============================] - 23s 753ms/step - loss: 0.0513 - accuracy: 0.9801 - mean_io_u: 0.3733 - val_loss: 0.1689 - val_accuracy: 0.9442 - val_mean_io_u: 0.3768\n",
            "Epoch 5/100\n",
            "31/31 [==============================] - 23s 749ms/step - loss: 0.0495 - accuracy: 0.9801 - mean_io_u: 0.3733 - val_loss: 0.1033 - val_accuracy: 0.9636 - val_mean_io_u: 0.3768\n",
            "Epoch 6/100\n",
            "31/31 [==============================] - 23s 742ms/step - loss: 0.0466 - accuracy: 0.9816 - mean_io_u: 0.3733 - val_loss: 0.0769 - val_accuracy: 0.9722 - val_mean_io_u: 0.3768\n",
            "Epoch 7/100\n",
            "31/31 [==============================] - 23s 747ms/step - loss: 0.0457 - accuracy: 0.9814 - mean_io_u: 0.3733 - val_loss: 0.0831 - val_accuracy: 0.9717 - val_mean_io_u: 0.3768\n",
            "Epoch 8/100\n",
            "31/31 [==============================] - 23s 756ms/step - loss: 0.0421 - accuracy: 0.9828 - mean_io_u: 0.3733 - val_loss: 0.0443 - val_accuracy: 0.9821 - val_mean_io_u: 0.3768\n",
            "Epoch 9/100\n",
            "31/31 [==============================] - 23s 743ms/step - loss: 0.0396 - accuracy: 0.9837 - mean_io_u: 0.3733 - val_loss: 0.0424 - val_accuracy: 0.9832 - val_mean_io_u: 0.3768\n",
            "Epoch 10/100\n",
            "31/31 [==============================] - 23s 743ms/step - loss: 0.0405 - accuracy: 0.9832 - mean_io_u: 0.3733 - val_loss: 0.1014 - val_accuracy: 0.9610 - val_mean_io_u: 0.3768\n",
            "Epoch 11/100\n",
            "31/31 [==============================] - 23s 741ms/step - loss: 0.0375 - accuracy: 0.9844 - mean_io_u: 0.3733 - val_loss: 0.0367 - val_accuracy: 0.9851 - val_mean_io_u: 0.3768\n",
            "Epoch 12/100\n",
            "31/31 [==============================] - 23s 754ms/step - loss: 0.0358 - accuracy: 0.9850 - mean_io_u: 0.3733 - val_loss: 0.0445 - val_accuracy: 0.9820 - val_mean_io_u: 0.3768\n",
            "Epoch 13/100\n",
            "31/31 [==============================] - 23s 743ms/step - loss: 0.0359 - accuracy: 0.9848 - mean_io_u: 0.3733 - val_loss: 0.0394 - val_accuracy: 0.9842 - val_mean_io_u: 0.3768\n",
            "Epoch 14/100\n",
            "31/31 [==============================] - 23s 747ms/step - loss: 0.0353 - accuracy: 0.9850 - mean_io_u: 0.3733 - val_loss: 0.0378 - val_accuracy: 0.9844 - val_mean_io_u: 0.3768\n",
            "Epoch 15/100\n",
            "31/31 [==============================] - 23s 748ms/step - loss: 0.0329 - accuracy: 0.9860 - mean_io_u: 0.3733 - val_loss: 0.0386 - val_accuracy: 0.9843 - val_mean_io_u: 0.3768\n",
            "Epoch 16/100\n",
            "31/31 [==============================] - 23s 756ms/step - loss: 0.0302 - accuracy: 0.9870 - mean_io_u: 0.3733 - val_loss: 0.0420 - val_accuracy: 0.9834 - val_mean_io_u: 0.3768\n",
            "Epoch 17/100\n",
            "31/31 [==============================] - 23s 740ms/step - loss: 0.0284 - accuracy: 0.9877 - mean_io_u: 0.3733 - val_loss: 0.0431 - val_accuracy: 0.9831 - val_mean_io_u: 0.3768\n",
            "Epoch 18/100\n",
            "31/31 [==============================] - 23s 739ms/step - loss: 0.0278 - accuracy: 0.9878 - mean_io_u: 0.3733 - val_loss: 0.0386 - val_accuracy: 0.9846 - val_mean_io_u: 0.3768\n",
            "Epoch 19/100\n",
            "31/31 [==============================] - 23s 745ms/step - loss: 0.0272 - accuracy: 0.9881 - mean_io_u: 0.3733 - val_loss: 0.0379 - val_accuracy: 0.9848 - val_mean_io_u: 0.3768\n",
            "Epoch 20/100\n",
            "31/31 [==============================] - 23s 756ms/step - loss: 0.0264 - accuracy: 0.9883 - mean_io_u: 0.3733 - val_loss: 0.0469 - val_accuracy: 0.9817 - val_mean_io_u: 0.3768\n",
            "Epoch 21/100\n",
            "31/31 [==============================] - 23s 748ms/step - loss: 0.0255 - accuracy: 0.9886 - mean_io_u: 0.3733 - val_loss: 0.0434 - val_accuracy: 0.9833 - val_mean_io_u: 0.3768\n",
            "Epoch 22/100\n",
            "31/31 [==============================] - 23s 743ms/step - loss: 0.0264 - accuracy: 0.9884 - mean_io_u: 0.3733 - val_loss: 0.0431 - val_accuracy: 0.9844 - val_mean_io_u: 0.3768\n",
            "Epoch 23/100\n",
            "31/31 [==============================] - 23s 742ms/step - loss: 0.0256 - accuracy: 0.9886 - mean_io_u: 0.3733 - val_loss: 0.0452 - val_accuracy: 0.9836 - val_mean_io_u: 0.3768\n",
            "Epoch 24/100\n",
            "31/31 [==============================] - 23s 754ms/step - loss: 0.0230 - accuracy: 0.9895 - mean_io_u: 0.3733 - val_loss: 0.0396 - val_accuracy: 0.9848 - val_mean_io_u: 0.3768\n",
            "Epoch 25/100\n",
            "31/31 [==============================] - 23s 739ms/step - loss: 0.0217 - accuracy: 0.9901 - mean_io_u: 0.3733 - val_loss: 0.0388 - val_accuracy: 0.9854 - val_mean_io_u: 0.3768\n",
            "Epoch 26/100\n",
            "31/31 [==============================] - 23s 742ms/step - loss: 0.0205 - accuracy: 0.9906 - mean_io_u: 0.3733 - val_loss: 0.0402 - val_accuracy: 0.9853 - val_mean_io_u: 0.3768\n",
            "Epoch 27/100\n",
            "31/31 [==============================] - 23s 741ms/step - loss: 0.0197 - accuracy: 0.9910 - mean_io_u: 0.3733 - val_loss: 0.0436 - val_accuracy: 0.9841 - val_mean_io_u: 0.3768\n",
            "Epoch 28/100\n",
            "31/31 [==============================] - 23s 755ms/step - loss: 0.0189 - accuracy: 0.9913 - mean_io_u: 0.3733 - val_loss: 0.0450 - val_accuracy: 0.9836 - val_mean_io_u: 0.3768\n",
            "Epoch 29/100\n",
            "31/31 [==============================] - 23s 742ms/step - loss: 0.0177 - accuracy: 0.9917 - mean_io_u: 0.3733 - val_loss: 0.0425 - val_accuracy: 0.9848 - val_mean_io_u: 0.3768\n",
            "Epoch 30/100\n",
            "31/31 [==============================] - 23s 746ms/step - loss: 0.0179 - accuracy: 0.9917 - mean_io_u: 0.3733 - val_loss: 0.0454 - val_accuracy: 0.9844 - val_mean_io_u: 0.3768\n",
            "Epoch 31/100\n",
            "31/31 [==============================] - 23s 743ms/step - loss: 0.0166 - accuracy: 0.9922 - mean_io_u: 0.3733 - val_loss: 0.0439 - val_accuracy: 0.9849 - val_mean_io_u: 0.3768\n",
            "Epoch 32/100\n",
            "31/31 [==============================] - 23s 749ms/step - loss: 0.0168 - accuracy: 0.9921 - mean_io_u: 0.3733 - val_loss: 0.0457 - val_accuracy: 0.9846 - val_mean_io_u: 0.3768\n",
            "Epoch 33/100\n",
            "31/31 [==============================] - 23s 740ms/step - loss: 0.0165 - accuracy: 0.9923 - mean_io_u: 0.3733 - val_loss: 0.0467 - val_accuracy: 0.9846 - val_mean_io_u: 0.3768\n",
            "Epoch 34/100\n",
            "31/31 [==============================] - 23s 746ms/step - loss: 0.0152 - accuracy: 0.9928 - mean_io_u: 0.3733 - val_loss: 0.0455 - val_accuracy: 0.9849 - val_mean_io_u: 0.3768\n",
            "Epoch 35/100\n",
            "31/31 [==============================] - 23s 745ms/step - loss: 0.0153 - accuracy: 0.9928 - mean_io_u: 0.3733 - val_loss: 0.0496 - val_accuracy: 0.9849 - val_mean_io_u: 0.3768\n",
            "Epoch 36/100\n",
            "31/31 [==============================] - 23s 758ms/step - loss: 0.0154 - accuracy: 0.9927 - mean_io_u: 0.3733 - val_loss: 0.0500 - val_accuracy: 0.9837 - val_mean_io_u: 0.3768\n",
            "Epoch 37/100\n",
            "31/31 [==============================] - 23s 746ms/step - loss: 0.0158 - accuracy: 0.9925 - mean_io_u: 0.3733 - val_loss: 0.0484 - val_accuracy: 0.9842 - val_mean_io_u: 0.3768\n",
            "Epoch 38/100\n",
            "31/31 [==============================] - 23s 746ms/step - loss: 0.0274 - accuracy: 0.9885 - mean_io_u: 0.3733 - val_loss: 2.5201 - val_accuracy: 0.7436 - val_mean_io_u: 0.3768\n",
            "Epoch 39/100\n",
            "31/31 [==============================] - 23s 746ms/step - loss: 0.0494 - accuracy: 0.9804 - mean_io_u: 0.3733 - val_loss: 1.7691 - val_accuracy: 0.8320 - val_mean_io_u: 0.3768\n",
            "Epoch 40/100\n",
            "31/31 [==============================] - 23s 754ms/step - loss: 0.0374 - accuracy: 0.9842 - mean_io_u: 0.3733 - val_loss: 0.1387 - val_accuracy: 0.9670 - val_mean_io_u: 0.3844\n",
            "Epoch 41/100\n",
            "31/31 [==============================] - 23s 740ms/step - loss: 0.0310 - accuracy: 0.9866 - mean_io_u: 0.3733 - val_loss: 0.0490 - val_accuracy: 0.9829 - val_mean_io_u: 0.3768\n",
            "Epoch 42/100\n",
            "31/31 [==============================] - 23s 743ms/step - loss: 0.0267 - accuracy: 0.9882 - mean_io_u: 0.3733 - val_loss: 0.0466 - val_accuracy: 0.9831 - val_mean_io_u: 0.3768\n",
            "Epoch 43/100\n",
            "31/31 [==============================] - 23s 741ms/step - loss: 0.0224 - accuracy: 0.9898 - mean_io_u: 0.3733 - val_loss: 0.0459 - val_accuracy: 0.9831 - val_mean_io_u: 0.3768\n",
            "Epoch 44/100\n",
            "31/31 [==============================] - 23s 759ms/step - loss: 0.0194 - accuracy: 0.9910 - mean_io_u: 0.3733 - val_loss: 0.0424 - val_accuracy: 0.9843 - val_mean_io_u: 0.3768\n",
            "Epoch 45/100\n",
            "31/31 [==============================] - 23s 745ms/step - loss: 0.0171 - accuracy: 0.9920 - mean_io_u: 0.3733 - val_loss: 0.0409 - val_accuracy: 0.9846 - val_mean_io_u: 0.3768\n",
            "Epoch 46/100\n",
            "31/31 [==============================] - 23s 743ms/step - loss: 0.0175 - accuracy: 0.9918 - mean_io_u: 0.3733 - val_loss: 0.0447 - val_accuracy: 0.9836 - val_mean_io_u: 0.3768\n",
            "Epoch 47/100\n",
            "31/31 [==============================] - 23s 742ms/step - loss: 0.0157 - accuracy: 0.9926 - mean_io_u: 0.3733 - val_loss: 0.0441 - val_accuracy: 0.9847 - val_mean_io_u: 0.3768\n",
            "Epoch 48/100\n",
            "31/31 [==============================] - 23s 746ms/step - loss: 0.0148 - accuracy: 0.9930 - mean_io_u: 0.3733 - val_loss: 0.0438 - val_accuracy: 0.9848 - val_mean_io_u: 0.3768\n",
            "Epoch 49/100\n",
            "31/31 [==============================] - 23s 743ms/step - loss: 0.0134 - accuracy: 0.9936 - mean_io_u: 0.3733 - val_loss: 0.0462 - val_accuracy: 0.9846 - val_mean_io_u: 0.3768\n",
            "Epoch 50/100\n",
            "31/31 [==============================] - 23s 744ms/step - loss: 0.0129 - accuracy: 0.9938 - mean_io_u: 0.3733 - val_loss: 0.0474 - val_accuracy: 0.9846 - val_mean_io_u: 0.3768\n",
            "Epoch 51/100\n",
            "31/31 [==============================] - 23s 744ms/step - loss: 0.0132 - accuracy: 0.9937 - mean_io_u: 0.3733 - val_loss: 0.1180 - val_accuracy: 0.9711 - val_mean_io_u: 0.3768\n",
            "Epoch 52/100\n",
            "31/31 [==============================] - 23s 758ms/step - loss: 0.0188 - accuracy: 0.9913 - mean_io_u: 0.3733 - val_loss: 0.0814 - val_accuracy: 0.9767 - val_mean_io_u: 0.3768\n",
            "Epoch 53/100\n",
            "31/31 [==============================] - 23s 743ms/step - loss: 0.0151 - accuracy: 0.9929 - mean_io_u: 0.3733 - val_loss: 0.0561 - val_accuracy: 0.9831 - val_mean_io_u: 0.3768\n",
            "Epoch 54/100\n",
            "31/31 [==============================] - 23s 741ms/step - loss: 0.0134 - accuracy: 0.9936 - mean_io_u: 0.3733 - val_loss: 0.0511 - val_accuracy: 0.9839 - val_mean_io_u: 0.3768\n",
            "Epoch 55/100\n",
            "31/31 [==============================] - 23s 744ms/step - loss: 0.0122 - accuracy: 0.9941 - mean_io_u: 0.3733 - val_loss: 0.0517 - val_accuracy: 0.9844 - val_mean_io_u: 0.3768\n",
            "Epoch 56/100\n",
            "31/31 [==============================] - 23s 751ms/step - loss: 0.0116 - accuracy: 0.9944 - mean_io_u: 0.3733 - val_loss: 0.0486 - val_accuracy: 0.9854 - val_mean_io_u: 0.3768\n",
            "Epoch 57/100\n",
            "31/31 [==============================] - 23s 741ms/step - loss: 0.0117 - accuracy: 0.9943 - mean_io_u: 0.3733 - val_loss: 0.0524 - val_accuracy: 0.9847 - val_mean_io_u: 0.3768\n",
            "Epoch 58/100\n",
            "31/31 [==============================] - 23s 739ms/step - loss: 0.0106 - accuracy: 0.9948 - mean_io_u: 0.3733 - val_loss: 0.0553 - val_accuracy: 0.9843 - val_mean_io_u: 0.3768\n",
            "Epoch 59/100\n",
            "31/31 [==============================] - 23s 747ms/step - loss: 0.0103 - accuracy: 0.9949 - mean_io_u: 0.3733 - val_loss: 0.0559 - val_accuracy: 0.9846 - val_mean_io_u: 0.3768\n",
            "Epoch 60/100\n",
            "31/31 [==============================] - 23s 758ms/step - loss: 0.0108 - accuracy: 0.9947 - mean_io_u: 0.3733 - val_loss: 0.0596 - val_accuracy: 0.9835 - val_mean_io_u: 0.3768\n",
            "Epoch 61/100\n",
            "31/31 [==============================] - 23s 745ms/step - loss: 0.0112 - accuracy: 0.9945 - mean_io_u: 0.3733 - val_loss: 0.0602 - val_accuracy: 0.9837 - val_mean_io_u: 0.3768\n",
            "Epoch 62/100\n",
            "31/31 [==============================] - 23s 748ms/step - loss: 0.0103 - accuracy: 0.9949 - mean_io_u: 0.3733 - val_loss: 0.0597 - val_accuracy: 0.9847 - val_mean_io_u: 0.3768\n",
            "Epoch 63/100\n",
            "31/31 [==============================] - 23s 744ms/step - loss: 0.0095 - accuracy: 0.9953 - mean_io_u: 0.3733 - val_loss: 0.0588 - val_accuracy: 0.9848 - val_mean_io_u: 0.3768\n",
            "Epoch 64/100\n",
            "31/31 [==============================] - 23s 754ms/step - loss: 0.0094 - accuracy: 0.9953 - mean_io_u: 0.3733 - val_loss: 0.0583 - val_accuracy: 0.9851 - val_mean_io_u: 0.3768\n",
            "Epoch 65/100\n",
            "31/31 [==============================] - 23s 745ms/step - loss: 0.0092 - accuracy: 0.9954 - mean_io_u: 0.3733 - val_loss: 0.0598 - val_accuracy: 0.9846 - val_mean_io_u: 0.3768\n",
            "Epoch 66/100\n",
            "31/31 [==============================] - 23s 741ms/step - loss: 0.0090 - accuracy: 0.9955 - mean_io_u: 0.3733 - val_loss: 0.0624 - val_accuracy: 0.9844 - val_mean_io_u: 0.3768\n",
            "Epoch 67/100\n",
            "31/31 [==============================] - 23s 744ms/step - loss: 0.0085 - accuracy: 0.9957 - mean_io_u: 0.3733 - val_loss: 0.0589 - val_accuracy: 0.9854 - val_mean_io_u: 0.3768\n",
            "Epoch 68/100\n",
            "31/31 [==============================] - 23s 750ms/step - loss: 0.0086 - accuracy: 0.9956 - mean_io_u: 0.3734 - val_loss: 0.0674 - val_accuracy: 0.9837 - val_mean_io_u: 0.3768\n",
            "Epoch 69/100\n",
            "31/31 [==============================] - 23s 747ms/step - loss: 0.0094 - accuracy: 0.9952 - mean_io_u: 0.3734 - val_loss: 0.0636 - val_accuracy: 0.9847 - val_mean_io_u: 0.3770\n",
            "Epoch 70/100\n",
            "31/31 [==============================] - 23s 745ms/step - loss: 0.0085 - accuracy: 0.9957 - mean_io_u: 0.3734 - val_loss: 0.0638 - val_accuracy: 0.9850 - val_mean_io_u: 0.3768\n",
            "Epoch 71/100\n",
            "31/31 [==============================] - 23s 741ms/step - loss: 0.0082 - accuracy: 0.9958 - mean_io_u: 0.3735 - val_loss: 0.0657 - val_accuracy: 0.9848 - val_mean_io_u: 0.3768\n",
            "Epoch 72/100\n",
            "31/31 [==============================] - 23s 755ms/step - loss: 0.0080 - accuracy: 0.9959 - mean_io_u: 0.3735 - val_loss: 0.0669 - val_accuracy: 0.9846 - val_mean_io_u: 0.3768\n",
            "Epoch 73/100\n",
            "31/31 [==============================] - 23s 745ms/step - loss: 0.0080 - accuracy: 0.9959 - mean_io_u: 0.3736 - val_loss: 0.0632 - val_accuracy: 0.9853 - val_mean_io_u: 0.3769\n",
            "Epoch 74/100\n",
            "31/31 [==============================] - 23s 744ms/step - loss: 0.0079 - accuracy: 0.9959 - mean_io_u: 0.3737 - val_loss: 0.0637 - val_accuracy: 0.9852 - val_mean_io_u: 0.3768\n",
            "Epoch 75/100\n",
            "31/31 [==============================] - 23s 746ms/step - loss: 0.0080 - accuracy: 0.9959 - mean_io_u: 0.3739 - val_loss: 0.0662 - val_accuracy: 0.9849 - val_mean_io_u: 0.3769\n",
            "Epoch 76/100\n",
            "31/31 [==============================] - 24s 760ms/step - loss: 0.0079 - accuracy: 0.9959 - mean_io_u: 0.3739 - val_loss: 0.0688 - val_accuracy: 0.9845 - val_mean_io_u: 0.3771\n",
            "Epoch 77/100\n",
            "31/31 [==============================] - 23s 746ms/step - loss: 0.0075 - accuracy: 0.9961 - mean_io_u: 0.3743 - val_loss: 0.0682 - val_accuracy: 0.9847 - val_mean_io_u: 0.3770\n",
            "Epoch 78/100\n",
            "31/31 [==============================] - 23s 744ms/step - loss: 0.0077 - accuracy: 0.9960 - mean_io_u: 0.3743 - val_loss: 0.0738 - val_accuracy: 0.9837 - val_mean_io_u: 0.3774\n",
            "Epoch 79/100\n",
            "31/31 [==============================] - 23s 746ms/step - loss: 0.0075 - accuracy: 0.9961 - mean_io_u: 0.3744 - val_loss: 0.0674 - val_accuracy: 0.9851 - val_mean_io_u: 0.3774\n",
            "Epoch 80/100\n",
            "31/31 [==============================] - 23s 753ms/step - loss: 0.0078 - accuracy: 0.9959 - mean_io_u: 0.3744 - val_loss: 0.0665 - val_accuracy: 0.9854 - val_mean_io_u: 0.3787\n",
            "Epoch 81/100\n",
            "31/31 [==============================] - 23s 740ms/step - loss: 0.0076 - accuracy: 0.9960 - mean_io_u: 0.3745 - val_loss: 0.0704 - val_accuracy: 0.9845 - val_mean_io_u: 0.3775\n",
            "Epoch 82/100\n",
            "31/31 [==============================] - 23s 741ms/step - loss: 0.0071 - accuracy: 0.9963 - mean_io_u: 0.3755 - val_loss: 0.0700 - val_accuracy: 0.9848 - val_mean_io_u: 0.3776\n",
            "Epoch 83/100\n",
            "31/31 [==============================] - 23s 742ms/step - loss: 0.0076 - accuracy: 0.9960 - mean_io_u: 0.3762 - val_loss: 0.0680 - val_accuracy: 0.9852 - val_mean_io_u: 0.3796\n",
            "Epoch 84/100\n",
            "31/31 [==============================] - 23s 751ms/step - loss: 0.0081 - accuracy: 0.9958 - mean_io_u: 0.3757 - val_loss: 0.0712 - val_accuracy: 0.9846 - val_mean_io_u: 0.3804\n",
            "Epoch 85/100\n",
            "31/31 [==============================] - 23s 747ms/step - loss: 0.0073 - accuracy: 0.9962 - mean_io_u: 0.3762 - val_loss: 0.0713 - val_accuracy: 0.9849 - val_mean_io_u: 0.3791\n",
            "Epoch 86/100\n",
            "31/31 [==============================] - 23s 745ms/step - loss: 0.0069 - accuracy: 0.9964 - mean_io_u: 0.3763 - val_loss: 0.0699 - val_accuracy: 0.9851 - val_mean_io_u: 0.3786\n",
            "Epoch 87/100\n",
            "31/31 [==============================] - 23s 746ms/step - loss: 0.0066 - accuracy: 0.9965 - mean_io_u: 0.3775 - val_loss: 0.0742 - val_accuracy: 0.9848 - val_mean_io_u: 0.3804\n",
            "Epoch 88/100\n",
            "31/31 [==============================] - 23s 756ms/step - loss: 0.0066 - accuracy: 0.9965 - mean_io_u: 0.3787 - val_loss: 0.0702 - val_accuracy: 0.9854 - val_mean_io_u: 0.3812\n",
            "Epoch 89/100\n",
            "31/31 [==============================] - 23s 739ms/step - loss: 0.0066 - accuracy: 0.9965 - mean_io_u: 0.3786 - val_loss: 0.0720 - val_accuracy: 0.9850 - val_mean_io_u: 0.3788\n",
            "Epoch 90/100\n",
            "31/31 [==============================] - 23s 742ms/step - loss: 0.0064 - accuracy: 0.9965 - mean_io_u: 0.3791 - val_loss: 0.0715 - val_accuracy: 0.9851 - val_mean_io_u: 0.3792\n",
            "Epoch 91/100\n",
            "31/31 [==============================] - 23s 740ms/step - loss: 0.0063 - accuracy: 0.9966 - mean_io_u: 0.3796 - val_loss: 0.0709 - val_accuracy: 0.9854 - val_mean_io_u: 0.3794\n",
            "Epoch 92/100\n",
            "31/31 [==============================] - 23s 749ms/step - loss: 0.0063 - accuracy: 0.9966 - mean_io_u: 0.3798 - val_loss: 0.0720 - val_accuracy: 0.9854 - val_mean_io_u: 0.3810\n",
            "Epoch 93/100\n",
            "31/31 [==============================] - 23s 742ms/step - loss: 0.0066 - accuracy: 0.9965 - mean_io_u: 0.3811 - val_loss: 0.0693 - val_accuracy: 0.9852 - val_mean_io_u: 0.3825\n",
            "Epoch 94/100\n",
            "31/31 [==============================] - 23s 741ms/step - loss: 0.0074 - accuracy: 0.9961 - mean_io_u: 0.3777 - val_loss: 0.0733 - val_accuracy: 0.9850 - val_mean_io_u: 0.3847\n",
            "Epoch 95/100\n",
            "31/31 [==============================] - 23s 740ms/step - loss: 0.0067 - accuracy: 0.9964 - mean_io_u: 0.3796 - val_loss: 0.0789 - val_accuracy: 0.9846 - val_mean_io_u: 0.3844\n",
            "Epoch 96/100\n",
            "31/31 [==============================] - 23s 754ms/step - loss: 0.0068 - accuracy: 0.9964 - mean_io_u: 0.3797 - val_loss: 0.0782 - val_accuracy: 0.9846 - val_mean_io_u: 0.3817\n",
            "Epoch 97/100\n",
            "31/31 [==============================] - 23s 738ms/step - loss: 0.0061 - accuracy: 0.9967 - mean_io_u: 0.3824 - val_loss: 0.0783 - val_accuracy: 0.9847 - val_mean_io_u: 0.3822\n",
            "Epoch 98/100\n",
            "31/31 [==============================] - 23s 741ms/step - loss: 0.0057 - accuracy: 0.9968 - mean_io_u: 0.3839 - val_loss: 0.0759 - val_accuracy: 0.9852 - val_mean_io_u: 0.3833\n",
            "Epoch 99/100\n",
            "31/31 [==============================] - 23s 741ms/step - loss: 0.0058 - accuracy: 0.9968 - mean_io_u: 0.3854 - val_loss: 0.0750 - val_accuracy: 0.9850 - val_mean_io_u: 0.3840\n",
            "Epoch 100/100\n",
            "31/31 [==============================] - 23s 755ms/step - loss: 0.0058 - accuracy: 0.9968 - mean_io_u: 0.3868 - val_loss: 0.0758 - val_accuracy: 0.9853 - val_mean_io_u: 0.3850\n"
          ],
          "name": "stdout"
        }
      ]
    },
    {
      "cell_type": "code",
      "metadata": {
        "id": "oPDVbFfIvWy_",
        "colab": {
          "base_uri": "https://localhost:8080/"
        },
        "outputId": "cb9bbabc-2a94-4ab1-be22-7246416f2908"
      },
      "source": [
        "model.save('/content/drive/MyDrive/Lung/lung_model.h5')"
      ],
      "execution_count": null,
      "outputs": [
        {
          "output_type": "stream",
          "text": [
            "/usr/local/lib/python3.7/dist-packages/keras/utils/generic_utils.py:497: CustomMaskWarning: Custom mask layers require a config and must override get_config. When loading, the custom mask layer must be passed to the custom_objects argument.\n",
            "  category=CustomMaskWarning)\n"
          ],
          "name": "stderr"
        }
      ]
    },
    {
      "cell_type": "code",
      "metadata": {
        "colab": {
          "base_uri": "https://localhost:8080/",
          "height": 295
        },
        "id": "6KpF1CZ29O6T",
        "outputId": "f72efced-3575-4719-d7d5-a5288ac2951d"
      },
      "source": [
        "#  \"Accuracy\"\n",
        "plt.plot(history.history['accuracy'])\n",
        "plt.plot(history.history['val_accuracy'])\n",
        "plt.title('model accuracy')\n",
        "plt.ylabel('accuracy')\n",
        "plt.xlabel('epoch')\n",
        "plt.legend(['train', 'validation'], loc='upper left')\n",
        "plt.show()"
      ],
      "execution_count": null,
      "outputs": [
        {
          "output_type": "display_data",
          "data": {
            "image/png": "[encoded data removed]",
            "text/plain": [
              "<Figure size 432x288 with 1 Axes>"
            ]
          },
          "metadata": {
            "tags": [],
            "needs_background": "light"
          }
        }
      ]
    },
    {
      "cell_type": "code",
      "metadata": {
        "colab": {
          "base_uri": "https://localhost:8080/",
          "height": 269
        },
        "id": "sJ8FBF8O-GVu",
        "outputId": "e4c60829-c645-4311-d25a-a589f6696c87"
      },
      "source": [
        "img =  cv2.imread('/content/drive/MyDrive/Lung/Dataset - 2/test_image/CHNCXR_0380_1.png', cv2.IMREAD_COLOR) \n",
        "test_img = cv2.resize(img, (256,256))\n",
        "test_img = cv2.cvtColor(test_img, cv2.IMREAD_COLOR)\n",
        "plt.imshow(test_img)\n",
        "test_img = np.expand_dims(test_img, axis=0)\n",
        "prediction = model.predict(test_img)"
      ],
      "execution_count": null,
      "outputs": [
        {
          "output_type": "display_data",
          "data": {
            "image/png": "[encoded data removed]",
            "text/plain": [
              "<Figure size 432x288 with 1 Axes>"
            ]
          },
          "metadata": {
            "tags": [],
            "needs_background": "light"
          }
        }
      ]
    },
    {
      "cell_type": "code",
      "metadata": {
        "colab": {
          "base_uri": "https://localhost:8080/",
          "height": 287
        },
        "id": "jvi8SN_8-JM3",
        "outputId": "2fd4d189-619d-48cf-d903-42880f9f47e4"
      },
      "source": [
        "prediction_image = prediction.reshape((256,256))\n",
        "plt.imshow(prediction_image, cmap='gray')"
      ],
      "execution_count": null,
      "outputs": [
        {
          "output_type": "execute_result",
          "data": {
            "text/plain": [
              "<matplotlib.image.AxesImage at 0x7f2289a0f250>"
            ]
          },
          "metadata": {
            "tags": []
          },
          "execution_count": 22
        },
        {
          "output_type": "display_data",
          "data": {
            "image/png": "[encoded data removed]",
            "text/plain": [
              "<Figure size 432x288 with 1 Axes>"
            ]
          },
          "metadata": {
            "tags": [],
            "needs_background": "light"
          }
        }
      ]
    },
    {
      "cell_type": "markdown",
      "metadata": {
        "id": "tMTMh0jNw_9Y"
      },
      "source": [
        "# Dataset-2"
      ]
    },
    {
      "cell_type": "code",
      "metadata": {
        "id": "Uv6aRVBggJz4"
      },
      "source": [
        "#Dataset - 1 model training\n",
        "history = model.fit(\n",
        "    x=train_x,\n",
        "    y=train_y,\n",
        "    batch_size=20,\n",
        "    verbose = 1,\n",
        "    epochs=100,\n",
        "    validation_data=(test_x, test_y),\n",
        "    #callbacks=callbacks_list\n",
        ")"
      ],
      "execution_count": null,
      "outputs": []
    },
    {
      "cell_type": "code",
      "metadata": {
        "id": "0xNPdLtuxErx"
      },
      "source": [
        "train_x_path = \"/content/drive/MyDrive/Lung/Dataset - 2/Train_original\"\n",
        "train_y_path =\"/content/drive/MyDrive/Lung/Dataset - 2/Train_mask\"\n",
        "test_x_path = \"/content/drive/MyDrive/Lung/Dataset - 2/Validation_original\"\n",
        "test_y_path = \"/content/drive/MyDrive/Lung/Dataset - 2/Validation_mask\""
      ],
      "execution_count": null,
      "outputs": []
    },
    {
      "cell_type": "code",
      "metadata": {
        "id": "VD7YXNzlxVh7"
      },
      "source": [
        "def read_images(path, i=cv2.IMREAD_COLOR):\n",
        "    images_array=[]\n",
        "    for items in sorted(os.listdir(path)):\n",
        "        img =  cv2.imread(os.path.join(path, items), i) #you can pass multiple arguments in single line\n",
        "        img = cv2.resize(img,(256,256))\n",
        "        #img = cv2.cvtColor(img, cv2.COLOR_RGB2BGR)\n",
        "        images_array.append(img)\n",
        "    return np.array(images_array[:-1])"
      ],
      "execution_count": null,
      "outputs": []
    },
    {
      "cell_type": "code",
      "metadata": {
        "id": "nRTwvC1yxUHp",
        "colab": {
          "base_uri": "https://localhost:8080/",
          "height": 333
        },
        "outputId": "5c1fc833-3f8e-4297-f74b-c0b56894e0c0"
      },
      "source": [
        "train_x = read_images(train_x_path, i=cv2.IMREAD_COLOR)\n",
        "train_y = read_images(train_y_path,i=cv2.IMREAD_GRAYSCALE)\n",
        "test_x = read_images(test_x_path, i=cv2.IMREAD_COLOR)\n",
        "test_y = read_images(test_y_path, i=cv2.IMREAD_GRAYSCALE)"
      ],
      "execution_count": null,
      "outputs": [
        {
          "output_type": "error",
          "ename": "KeyboardInterrupt",
          "evalue": "ignored",
          "traceback": [
            "\u001b[0;31m---------------------------------------------------------------------------\u001b[0m",
            "\u001b[0;31mKeyboardInterrupt\u001b[0m                         Traceback (most recent call last)",
            "\u001b[0;32m<ipython-input-19-5173fbd81016>\u001b[0m in \u001b[0;36m<module>\u001b[0;34m()\u001b[0m\n\u001b[0;32m----> 1\u001b[0;31m \u001b[0mtrain_x\u001b[0m \u001b[0;34m=\u001b[0m \u001b[0mread_images\u001b[0m\u001b[0;34m(\u001b[0m\u001b[0mtrain_x_path\u001b[0m\u001b[0;34m,\u001b[0m \u001b[0mi\u001b[0m\u001b[0;34m=\u001b[0m\u001b[0mcv2\u001b[0m\u001b[0;34m.\u001b[0m\u001b[0mIMREAD_COLOR\u001b[0m\u001b[0;34m)\u001b[0m\u001b[0;34m\u001b[0m\u001b[0;34m\u001b[0m\u001b[0m\n\u001b[0m\u001b[1;32m      2\u001b[0m \u001b[0mtrain_y\u001b[0m \u001b[0;34m=\u001b[0m \u001b[0mread_images\u001b[0m\u001b[0;34m(\u001b[0m\u001b[0mtrain_y_path\u001b[0m\u001b[0;34m,\u001b[0m\u001b[0mi\u001b[0m\u001b[0;34m=\u001b[0m\u001b[0mcv2\u001b[0m\u001b[0;34m.\u001b[0m\u001b[0mIMREAD_GRAYSCALE\u001b[0m\u001b[0;34m)\u001b[0m\u001b[0;34m\u001b[0m\u001b[0;34m\u001b[0m\u001b[0m\n\u001b[1;32m      3\u001b[0m \u001b[0mtest_x\u001b[0m \u001b[0;34m=\u001b[0m \u001b[0mread_images\u001b[0m\u001b[0;34m(\u001b[0m\u001b[0mtest_x_path\u001b[0m\u001b[0;34m,\u001b[0m \u001b[0mi\u001b[0m\u001b[0;34m=\u001b[0m\u001b[0mcv2\u001b[0m\u001b[0;34m.\u001b[0m\u001b[0mIMREAD_COLOR\u001b[0m\u001b[0;34m)\u001b[0m\u001b[0;34m\u001b[0m\u001b[0;34m\u001b[0m\u001b[0m\n\u001b[1;32m      4\u001b[0m \u001b[0mtest_y\u001b[0m \u001b[0;34m=\u001b[0m \u001b[0mread_images\u001b[0m\u001b[0;34m(\u001b[0m\u001b[0mtest_y_path\u001b[0m\u001b[0;34m,\u001b[0m \u001b[0mi\u001b[0m\u001b[0;34m=\u001b[0m\u001b[0mcv2\u001b[0m\u001b[0;34m.\u001b[0m\u001b[0mIMREAD_GRAYSCALE\u001b[0m\u001b[0;34m)\u001b[0m\u001b[0;34m\u001b[0m\u001b[0;34m\u001b[0m\u001b[0m\n",
            "\u001b[0;32m<ipython-input-18-921113e55378>\u001b[0m in \u001b[0;36mread_images\u001b[0;34m(path, i)\u001b[0m\n\u001b[1;32m      2\u001b[0m     \u001b[0mimages_array\u001b[0m\u001b[0;34m=\u001b[0m\u001b[0;34m[\u001b[0m\u001b[0;34m]\u001b[0m\u001b[0;34m\u001b[0m\u001b[0;34m\u001b[0m\u001b[0m\n\u001b[1;32m      3\u001b[0m     \u001b[0;32mfor\u001b[0m \u001b[0mitems\u001b[0m \u001b[0;32min\u001b[0m \u001b[0msorted\u001b[0m\u001b[0;34m(\u001b[0m\u001b[0mos\u001b[0m\u001b[0;34m.\u001b[0m\u001b[0mlistdir\u001b[0m\u001b[0;34m(\u001b[0m\u001b[0mpath\u001b[0m\u001b[0;34m)\u001b[0m\u001b[0;34m)\u001b[0m\u001b[0;34m:\u001b[0m\u001b[0;34m\u001b[0m\u001b[0;34m\u001b[0m\u001b[0m\n\u001b[0;32m----> 4\u001b[0;31m         \u001b[0mimg\u001b[0m \u001b[0;34m=\u001b[0m  \u001b[0mcv2\u001b[0m\u001b[0;34m.\u001b[0m\u001b[0mimread\u001b[0m\u001b[0;34m(\u001b[0m\u001b[0mos\u001b[0m\u001b[0;34m.\u001b[0m\u001b[0mpath\u001b[0m\u001b[0;34m.\u001b[0m\u001b[0mjoin\u001b[0m\u001b[0;34m(\u001b[0m\u001b[0mpath\u001b[0m\u001b[0;34m,\u001b[0m \u001b[0mitems\u001b[0m\u001b[0;34m)\u001b[0m\u001b[0;34m,\u001b[0m \u001b[0mi\u001b[0m\u001b[0;34m)\u001b[0m \u001b[0;31m#you can pass multiple arguments in single line\u001b[0m\u001b[0;34m\u001b[0m\u001b[0;34m\u001b[0m\u001b[0m\n\u001b[0m\u001b[1;32m      5\u001b[0m         \u001b[0mimg\u001b[0m \u001b[0;34m=\u001b[0m \u001b[0mcv2\u001b[0m\u001b[0;34m.\u001b[0m\u001b[0mresize\u001b[0m\u001b[0;34m(\u001b[0m\u001b[0mimg\u001b[0m\u001b[0;34m,\u001b[0m\u001b[0;34m(\u001b[0m\u001b[0;36m256\u001b[0m\u001b[0;34m,\u001b[0m\u001b[0;36m256\u001b[0m\u001b[0;34m)\u001b[0m\u001b[0;34m)\u001b[0m\u001b[0;34m\u001b[0m\u001b[0;34m\u001b[0m\u001b[0m\n\u001b[1;32m      6\u001b[0m         \u001b[0;31m#img = cv2.cvtColor(img, cv2.COLOR_RGB2BGR)\u001b[0m\u001b[0;34m\u001b[0m\u001b[0;34m\u001b[0m\u001b[0;34m\u001b[0m\u001b[0m\n",
            "\u001b[0;31mKeyboardInterrupt\u001b[0m: "
          ]
        }
      ]
    },
    {
      "cell_type": "code",
      "metadata": {
        "id": "NWwD3GBgxTRO"
      },
      "source": [
        "train_y = np.expand_dims(train_y, axis=3)\n",
        "test_y = np.expand_dims(test_y, axis=3)"
      ],
      "execution_count": null,
      "outputs": []
    },
    {
      "cell_type": "code",
      "metadata": {
        "id": "D1mXcuJ4xSSI"
      },
      "source": [
        "print(np.shape(train_x[0]))\n",
        "print(np.shape(train_y[0]))\n",
        "print(np.shape(test_x[0]))\n",
        "print(np.shape(test_y[0]))"
      ],
      "execution_count": null,
      "outputs": []
    },
    {
      "cell_type": "code",
      "metadata": {
        "id": "J5thRrDzxRJZ"
      },
      "source": [
        "BACKBONE = 'resnet34'\n",
        "preprocess_input = sm.get_preprocessing(BACKBONE)\n",
        "\n",
        "train_x = preprocess_input(train_x)\n",
        "test_x = preprocess_input(test_x)\n",
        "train_y = train_y.astype(np.float32)/255\n",
        "test_y = test_y.astype(np.float32)/255"
      ],
      "execution_count": null,
      "outputs": []
    },
    {
      "cell_type": "code",
      "metadata": {
        "id": "5xkJIrObx2UT"
      },
      "source": [
        "model = sm.Unet(BACKBONE, input_shape=(256,256,3), encoder_weights='imagenet')\n",
        "model.compile(Adam(learning_rate=1e-4), loss=sm.losses.bce_jaccard_loss, metrics=['accuracy',MeanIoU(num_classes=2)],)\n",
        "\n",
        "#model.summary()"
      ],
      "execution_count": null,
      "outputs": []
    },
    {
      "cell_type": "code",
      "metadata": {
        "id": "zWrgYVthv7fn"
      },
      "source": [
        "model2 = load_model('/content/drive/MyDrive/Lung/Dataset - 1/weights/dataset1.h5',\n",
        "                    custom_objects= {'binary_crossentropy_plus_jaccard_loss': sm.losses.bce_jaccard_loss})\n",
        "#model2.summary()"
      ],
      "execution_count": null,
      "outputs": []
    },
    {
      "cell_type": "code",
      "metadata": {
        "id": "zXRbTbUvxGYC"
      },
      "source": [
        "history = model.fit(\n",
        "    x=train_x,\n",
        "    y=train_y,\n",
        "    batch_size=20,\n",
        "    verbose = 1,\n",
        "    epochs=100,\n",
        "    validation_data=(test_x, test_y),\n",
        "    #callbacks=callbacks_list\n",
        ")"
      ],
      "execution_count": null,
      "outputs": []
    },
    {
      "cell_type": "code",
      "metadata": {
        "id": "jWfj74uNx6vn"
      },
      "source": [
        "history2 = model2.fit(\n",
        "    x=train_x,\n",
        "    y=train_y,\n",
        "    batch_size=20,\n",
        "    verbose = 1,\n",
        "    epochs=100,\n",
        "    validation_data=(test_x, test_y)\n",
        "    #callbacks=callbacks_list\n",
        ")"
      ],
      "execution_count": null,
      "outputs": []
    },
    {
      "cell_type": "code",
      "metadata": {
        "id": "1Bre0z0LyGEX"
      },
      "source": [
        "#  \"Accuracy\"\n",
        "plt.plot(history.history['accuracy'])\n",
        "plt.plot(history.history['val_accuracy'])\n",
        "plt.title('model accuracy')\n",
        "plt.ylabel('accuracy')\n",
        "plt.xlabel('epoch')\n",
        "plt.legend(['train', 'validation'], loc='upper left')\n",
        "plt.show()"
      ],
      "execution_count": null,
      "outputs": []
    },
    {
      "cell_type": "code",
      "metadata": {
        "id": "gqcA1cE-yFS-"
      },
      "source": [
        "img =  cv2.imread('/content/drive/MyDrive/Lung/Dataset - 2/test_image/CHNCXR_0380_1.png', cv2.IMREAD_COLOR) \n",
        "test_img = cv2.resize(img, (256,256))\n",
        "test_img = cv2.cvtColor(test_img, cv2.IMREAD_COLOR)\n",
        "plt.imshow(test_img)\n",
        "test_img = np.expand_dims(test_img, axis=0)\n",
        "prediction = model.predict(test_img)"
      ],
      "execution_count": null,
      "outputs": []
    },
    {
      "cell_type": "code",
      "metadata": {
        "id": "rONFEBAdyEPH"
      },
      "source": [
        "prediction_image = prediction.reshape((256,256))\n",
        "plt.imshow(prediction_image, cmap='gray')"
      ],
      "execution_count": null,
      "outputs": []
    },
    {
      "cell_type": "code",
      "metadata": {
        "id": "EIt3PQqgyMgN"
      },
      "source": [
        "#  \"Accuracy\"\n",
        "plt.plot(history2.history['accuracy'])\n",
        "plt.plot(history2.history['val_accuracy'])\n",
        "plt.title('model accuracy')\n",
        "plt.ylabel('accuracy')\n",
        "plt.xlabel('epoch')\n",
        "plt.legend(['train', 'validation'], loc='upper left')\n",
        "plt.show()"
      ],
      "execution_count": null,
      "outputs": []
    },
    {
      "cell_type": "code",
      "metadata": {
        "id": "JzLbuUGfyLoh"
      },
      "source": [
        "img =  cv2.imread('/content/drive/MyDrive/Lung/Dataset - 2/test_image/CHNCXR_0380_1.png', cv2.IMREAD_COLOR) \n",
        "test_img = cv2.resize(img, (256,256))\n",
        "test_img = cv2.cvtColor(test_img, cv2.IMREAD_COLOR)\n",
        "plt.imshow(test_img)\n",
        "test_img = np.expand_dims(test_img, axis=0)\n",
        "prediction = model2.predict(test_img)"
      ],
      "execution_count": null,
      "outputs": []
    },
    {
      "cell_type": "code",
      "metadata": {
        "id": "wRACua7iyKdA"
      },
      "source": [
        "prediction_image = prediction.reshape((256,256))\n",
        "plt.imshow(prediction_image, cmap='gray')"
      ],
      "execution_count": null,
      "outputs": []
    }
  ]
}